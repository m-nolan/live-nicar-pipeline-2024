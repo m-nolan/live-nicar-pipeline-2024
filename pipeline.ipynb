{
 "cells": [
  {
   "cell_type": "markdown",
   "id": "90ef4fd7-61d5-499c-9901-d40977e05b7d",
   "metadata": {},
   "source": [
    "# imports"
   ]
  },
  {
   "cell_type": "code",
   "execution_count": 1,
   "id": "9fadc3d0",
   "metadata": {},
   "outputs": [],
   "source": [
    "import requests\n",
    "import pandas as pd"
   ]
  },
  {
   "cell_type": "markdown",
   "id": "2a884e31",
   "metadata": {},
   "source": [
    "# acquire data"
   ]
  },
  {
   "cell_type": "code",
   "execution_count": 2,
   "id": "ade74e75",
   "metadata": {},
   "outputs": [
    {
     "data": {
      "text/html": [
       "<div>\n",
       "<style scoped>\n",
       "    .dataframe tbody tr th:only-of-type {\n",
       "        vertical-align: middle;\n",
       "    }\n",
       "\n",
       "    .dataframe tbody tr th {\n",
       "        vertical-align: top;\n",
       "    }\n",
       "\n",
       "    .dataframe thead th {\n",
       "        text-align: right;\n",
       "    }\n",
       "</style>\n",
       "<table border=\"1\" class=\"dataframe\">\n",
       "  <thead>\n",
       "    <tr style=\"text-align: right;\">\n",
       "      <th></th>\n",
       "      <th>sno</th>\n",
       "      <th>complaint</th>\n",
       "      <th>complaint_description</th>\n",
       "      <th>complaint_type</th>\n",
       "      <th>recieved_date</th>\n",
       "      <th>incident_date</th>\n",
       "      <th>county</th>\n",
       "      <th>incident_closed_date</th>\n",
       "      <th>incident_status_desc</th>\n",
       "      <th>incident_zip</th>\n",
       "    </tr>\n",
       "  </thead>\n",
       "  <tbody>\n",
       "    <tr>\n",
       "      <th>0</th>\n",
       "      <td>1</td>\n",
       "      <td>232264</td>\n",
       "      <td>concern of loud noise in the Cheverly area</td>\n",
       "      <td>Other</td>\n",
       "      <td>2024-03-06</td>\n",
       "      <td>2024-03-06</td>\n",
       "      <td>Prince George's</td>\n",
       "      <td>2024-03-08</td>\n",
       "      <td>Incident Closed-Managed</td>\n",
       "      <td>NaN</td>\n",
       "    </tr>\n",
       "    <tr>\n",
       "      <th>1</th>\n",
       "      <td>2</td>\n",
       "      <td>232263</td>\n",
       "      <td>concern of loud noise in the Cheverly area</td>\n",
       "      <td>Other</td>\n",
       "      <td>2024-03-06</td>\n",
       "      <td>2024-03-06</td>\n",
       "      <td>Prince George's</td>\n",
       "      <td>2024-03-08</td>\n",
       "      <td>Incident Closed-Managed</td>\n",
       "      <td>NaN</td>\n",
       "    </tr>\n",
       "    <tr>\n",
       "      <th>2</th>\n",
       "      <td>3</td>\n",
       "      <td>232262</td>\n",
       "      <td>concern of loud noise in the Cheverly area</td>\n",
       "      <td>Other</td>\n",
       "      <td>2024-03-06</td>\n",
       "      <td>2024-03-06</td>\n",
       "      <td>Prince George's</td>\n",
       "      <td>2024-03-08</td>\n",
       "      <td>Incident Closed-Managed</td>\n",
       "      <td>NaN</td>\n",
       "    </tr>\n",
       "    <tr>\n",
       "      <th>3</th>\n",
       "      <td>4</td>\n",
       "      <td>232261</td>\n",
       "      <td>concern of loud noise in the Cheverly area</td>\n",
       "      <td>Other</td>\n",
       "      <td>2024-03-06</td>\n",
       "      <td>2024-03-06</td>\n",
       "      <td>Prince George's</td>\n",
       "      <td>2024-03-08</td>\n",
       "      <td>Incident Closed-Managed</td>\n",
       "      <td>NaN</td>\n",
       "    </tr>\n",
       "    <tr>\n",
       "      <th>4</th>\n",
       "      <td>5</td>\n",
       "      <td>232260</td>\n",
       "      <td>concern of loud noise in the Cheverly area</td>\n",
       "      <td>Other</td>\n",
       "      <td>2024-03-06</td>\n",
       "      <td>2024-03-06</td>\n",
       "      <td>Prince George's</td>\n",
       "      <td>2024-03-08</td>\n",
       "      <td>Incident Closed-Managed</td>\n",
       "      <td>NaN</td>\n",
       "    </tr>\n",
       "  </tbody>\n",
       "</table>\n",
       "</div>"
      ],
      "text/plain": [
       "  sno complaint                       complaint_description complaint_type  \\\n",
       "0   1    232264  concern of loud noise in the Cheverly area          Other   \n",
       "1   2    232263  concern of loud noise in the Cheverly area          Other   \n",
       "2   3    232262  concern of loud noise in the Cheverly area          Other   \n",
       "3   4    232261  concern of loud noise in the Cheverly area          Other   \n",
       "4   5    232260  concern of loud noise in the Cheverly area          Other   \n",
       "\n",
       "  recieved_date incident_date           county incident_closed_date  \\\n",
       "0    2024-03-06    2024-03-06  Prince George's           2024-03-08   \n",
       "1    2024-03-06    2024-03-06  Prince George's           2024-03-08   \n",
       "2    2024-03-06    2024-03-06  Prince George's           2024-03-08   \n",
       "3    2024-03-06    2024-03-06  Prince George's           2024-03-08   \n",
       "4    2024-03-06    2024-03-06  Prince George's           2024-03-08   \n",
       "\n",
       "      incident_status_desc incident_zip  \n",
       "0  Incident Closed-Managed          NaN  \n",
       "1  Incident Closed-Managed          NaN  \n",
       "2  Incident Closed-Managed          NaN  \n",
       "3  Incident Closed-Managed          NaN  \n",
       "4  Incident Closed-Managed          NaN  "
      ]
     },
     "execution_count": 2,
     "metadata": {},
     "output_type": "execute_result"
    }
   ],
   "source": [
    "api_url = \"https://opendata.maryland.gov/api/id/crti-ybyp.json?$select=*&$order=`:id`+ASC&$limit=3000&$offset=0 \"\n",
    "r = requests.get(api_url)\n",
    "data = r.json()\n",
    "df = pd.DataFrame(data)\n",
    "df.head()"
   ]
  },
  {
   "cell_type": "markdown",
   "id": "d8cfe4bd",
   "metadata": {},
   "source": [
    "# clean data"
   ]
  },
  {
   "cell_type": "code",
   "execution_count": 3,
   "id": "53e7537e-918d-407c-a0e1-fd14ab85df11",
   "metadata": {},
   "outputs": [],
   "source": [
    "backup_df = df.copy()"
   ]
  },
  {
   "cell_type": "code",
   "execution_count": 4,
   "id": "6cf94a81-b5df-46a7-83d5-488d4ca0c4fc",
   "metadata": {},
   "outputs": [
    {
     "data": {
      "text/plain": [
       "sno                      object\n",
       "complaint                object\n",
       "complaint_description    object\n",
       "complaint_type           object\n",
       "recieved_date            object\n",
       "incident_date            object\n",
       "county                   object\n",
       "incident_closed_date     object\n",
       "incident_status_desc     object\n",
       "incident_zip             object\n",
       "dtype: object"
      ]
     },
     "execution_count": 4,
     "metadata": {},
     "output_type": "execute_result"
    }
   ],
   "source": [
    "df.dtypes"
   ]
  },
  {
   "cell_type": "code",
   "execution_count": 5,
   "id": "4b91a6e6-b5a1-4715-9118-cf10a6b86131",
   "metadata": {},
   "outputs": [],
   "source": [
    "df['recieved_date'] = pd.to_datetime(df['recieved_date'])\n",
    "df['incident_date'] = pd.to_datetime(df['incident_date'])\n",
    "df['incident_closed_date'] = pd.to_datetime(df['incident_closed_date'])"
   ]
  },
  {
   "cell_type": "code",
   "execution_count": 8,
   "id": "3ad8ed62-e514-4b22-8d3d-891d3e871c27",
   "metadata": {},
   "outputs": [
    {
     "data": {
      "text/html": [
       "<div>\n",
       "<style scoped>\n",
       "    .dataframe tbody tr th:only-of-type {\n",
       "        vertical-align: middle;\n",
       "    }\n",
       "\n",
       "    .dataframe tbody tr th {\n",
       "        vertical-align: top;\n",
       "    }\n",
       "\n",
       "    .dataframe thead th {\n",
       "        text-align: right;\n",
       "    }\n",
       "</style>\n",
       "<table border=\"1\" class=\"dataframe\">\n",
       "  <thead>\n",
       "    <tr style=\"text-align: right;\">\n",
       "      <th></th>\n",
       "      <th>sno</th>\n",
       "      <th>complaint</th>\n",
       "      <th>complaint_description</th>\n",
       "      <th>complaint_type</th>\n",
       "      <th>recieved_date</th>\n",
       "      <th>incident_date</th>\n",
       "      <th>county</th>\n",
       "      <th>incident_closed_date</th>\n",
       "      <th>incident_status_desc</th>\n",
       "      <th>incident_zip</th>\n",
       "    </tr>\n",
       "  </thead>\n",
       "  <tbody>\n",
       "    <tr>\n",
       "      <th>1514</th>\n",
       "      <td>1515</td>\n",
       "      <td>8058</td>\n",
       "      <td>Boat company sandblasting boats and blowing wh...</td>\n",
       "      <td>Fugitive Dust/Particulate Matter</td>\n",
       "      <td>2021-01-11</td>\n",
       "      <td>2021-01-11</td>\n",
       "      <td>Queen Anne's</td>\n",
       "      <td>2022-03-08</td>\n",
       "      <td>Incident Closed - No further action</td>\n",
       "      <td>NaN</td>\n",
       "    </tr>\n",
       "    <tr>\n",
       "      <th>1515</th>\n",
       "      <td>1516</td>\n",
       "      <td>8057</td>\n",
       "      <td>Smoke and ash from neighbor's open burning in ...</td>\n",
       "      <td>Air</td>\n",
       "      <td>2021-01-07</td>\n",
       "      <td>2021-01-07</td>\n",
       "      <td>Anne Arundel</td>\n",
       "      <td>2021-01-07</td>\n",
       "      <td>Incident Closed-No Violation Observed</td>\n",
       "      <td>20751</td>\n",
       "    </tr>\n",
       "    <tr>\n",
       "      <th>1516</th>\n",
       "      <td>1517</td>\n",
       "      <td>8056</td>\n",
       "      <td>Smoke from neighbor's wood burning stove.</td>\n",
       "      <td>Air</td>\n",
       "      <td>2021-01-07</td>\n",
       "      <td>2021-01-04</td>\n",
       "      <td>Charles</td>\n",
       "      <td>NaT</td>\n",
       "      <td>Under Investigation</td>\n",
       "      <td>NaN</td>\n",
       "    </tr>\n",
       "    <tr>\n",
       "      <th>1517</th>\n",
       "      <td>1518</td>\n",
       "      <td>8051</td>\n",
       "      <td>Concern of materials being burned in fireplace...</td>\n",
       "      <td>Air</td>\n",
       "      <td>2021-01-04</td>\n",
       "      <td>2020-12-28</td>\n",
       "      <td>Frederick</td>\n",
       "      <td>2021-01-15</td>\n",
       "      <td>Incident Closed-No Violation Observed</td>\n",
       "      <td>21770</td>\n",
       "    </tr>\n",
       "    <tr>\n",
       "      <th>1518</th>\n",
       "      <td>1519</td>\n",
       "      <td>8019</td>\n",
       "      <td>Spice odors coming from McCormicks</td>\n",
       "      <td>Odor</td>\n",
       "      <td>2021-01-09</td>\n",
       "      <td>2020-12-10</td>\n",
       "      <td>Baltimore</td>\n",
       "      <td>2020-12-11</td>\n",
       "      <td>Incident Closed - No further action</td>\n",
       "      <td>NaN</td>\n",
       "    </tr>\n",
       "  </tbody>\n",
       "</table>\n",
       "</div>"
      ],
      "text/plain": [
       "       sno complaint                              complaint_description  \\\n",
       "1514  1515      8058  Boat company sandblasting boats and blowing wh...   \n",
       "1515  1516      8057  Smoke and ash from neighbor's open burning in ...   \n",
       "1516  1517      8056          Smoke from neighbor's wood burning stove.   \n",
       "1517  1518      8051  Concern of materials being burned in fireplace...   \n",
       "1518  1519      8019                 Spice odors coming from McCormicks   \n",
       "\n",
       "                        complaint_type recieved_date incident_date  \\\n",
       "1514  Fugitive Dust/Particulate Matter    2021-01-11    2021-01-11   \n",
       "1515                               Air    2021-01-07    2021-01-07   \n",
       "1516                               Air    2021-01-07    2021-01-04   \n",
       "1517                               Air    2021-01-04    2020-12-28   \n",
       "1518                              Odor    2021-01-09    2020-12-10   \n",
       "\n",
       "            county incident_closed_date  \\\n",
       "1514  Queen Anne's           2022-03-08   \n",
       "1515  Anne Arundel           2021-01-07   \n",
       "1516       Charles                  NaT   \n",
       "1517     Frederick           2021-01-15   \n",
       "1518     Baltimore           2020-12-11   \n",
       "\n",
       "                       incident_status_desc incident_zip  \n",
       "1514    Incident Closed - No further action          NaN  \n",
       "1515  Incident Closed-No Violation Observed        20751  \n",
       "1516                    Under Investigation          NaN  \n",
       "1517  Incident Closed-No Violation Observed        21770  \n",
       "1518    Incident Closed - No further action          NaN  "
      ]
     },
     "execution_count": 8,
     "metadata": {},
     "output_type": "execute_result"
    }
   ],
   "source": [
    "df.tail()"
   ]
  },
  {
   "cell_type": "markdown",
   "id": "64305f4d",
   "metadata": {},
   "source": [
    "# analyze data"
   ]
  },
  {
   "cell_type": "code",
   "execution_count": 11,
   "id": "53f17b2d-8ebb-403c-ad25-52f8b041a5e0",
   "metadata": {},
   "outputs": [],
   "source": [
    "year_ago_date = pd.Timestamp('2023-03-09')\n",
    "last_year_df = df[df.recieved_date > year_ago_date].copy()\n",
    "last_year_df['complaint_type'] = last_year_df['complaint_type'].str.split(', ')"
   ]
  },
  {
   "cell_type": "code",
   "execution_count": 19,
   "id": "b6da6cc3-fabe-40af-bc35-acebb34e9b4e",
   "metadata": {},
   "outputs": [
    {
     "data": {
      "text/plain": [
       "complaint_type\n",
       "[Air]                                                                                 166\n",
       "[Odor]                                                                                140\n",
       "[Other]                                                                               121\n",
       "[Fugitive Dust/Particulate Matter]                                                     35\n",
       "[Smoke]                                                                                28\n",
       "[Air, Fumes, Odor]                                                                     20\n",
       "[Open Burning]                                                                         13\n",
       "[Air, Odor]                                                                            11\n",
       "[Fumes]                                                                                11\n",
       "[Open Burning, Smoke]                                                                   7\n",
       "[Air, Odor, Smoke]                                                                      4\n",
       "[Air, Fugitive Dust/Particulate Matter]                                                 4\n",
       "[Odor, Open Burning, Smoke]                                                             3\n",
       "[Fugitive Dust/Particulate Matter, Smoke]                                               3\n",
       "[Air, Open Burning]                                                                     3\n",
       "[Air, Other]                                                                            3\n",
       "[Air, Smoke]                                                                            2\n",
       "[Air Pollutant Release]                                                                 2\n",
       "[Odor, Smoke]                                                                           2\n",
       "[Noise Complaint]                                                                       2\n",
       "[Asbestos Complaint]                                                                    2\n",
       "[Non-Tidal Wetlands/Waterway]                                                           2\n",
       "[Air, Odor, Open Burning]                                                               1\n",
       "[Air, Fumes, Smoke]                                                                     1\n",
       "[Air, Fumes, Odor, Smoke]                                                               1\n",
       "[Fumes, Smoke]                                                                          1\n",
       "[Fumes, Open Burning, Smoke]                                                            1\n",
       "[Air, Fumes, Other]                                                                     1\n",
       "[ARA AQCP non-regulated entity]                                                         1\n",
       "[Fumes, Odor, Smoke]                                                                    1\n",
       "[Air, Fugitive Dust/Particulate Matter, Odor]                                           1\n",
       "[Air, Fugitive Dust/Particulate Matter, Smoke]                                          1\n",
       "[Air, Asbestos Complaint]                                                               1\n",
       "[Air, Fugitive Dust/Particulate Matter, Other, Suspected Operation without Permit]      1\n",
       "[Air, Odor, Open Burning, Smoke]                                                        1\n",
       "[Air, Fumes]                                                                            1\n",
       "[Fumes, Odor, Open Burning]                                                             1\n",
       "Name: count, dtype: int64"
      ]
     },
     "execution_count": 19,
     "metadata": {},
     "output_type": "execute_result"
    }
   ],
   "source": [
    "# reports from each county\n",
    "last_year_df.complaint_type.value_counts()"
   ]
  },
  {
   "cell_type": "code",
   "execution_count": 16,
   "id": "50aeaea9-ae6e-4b88-8235-01a3a5a8d552",
   "metadata": {},
   "outputs": [
    {
     "data": {
      "text/plain": [
       "'Concerned with general poor ambient air quality in Maryland and would like to know what actions are being taken to improve air quality.'"
      ]
     },
     "execution_count": 16,
     "metadata": {},
     "output_type": "execute_result"
    }
   ],
   "source": [
    "last_year_df.iloc[398].complaint_description"
   ]
  },
  {
   "cell_type": "code",
   "execution_count": 29,
   "id": "59298617-a1a2-456a-8758-ba9dfe487ef6",
   "metadata": {},
   "outputs": [],
   "source": [
    "complaints_by_type = last_year_df.explode('complaint_type')\n",
    "last_year_by_type = complaints_by_type.complaint_type.value_counts()"
   ]
  },
  {
   "cell_type": "code",
   "execution_count": 30,
   "id": "cb400ae6-de80-4a4b-9aa5-d36395e2311d",
   "metadata": {},
   "outputs": [
    {
     "data": {
      "text/plain": [
       "county\n",
       "Baltimore City        101\n",
       "Anne Arundel           85\n",
       "Prince George's        83\n",
       "Frederick              62\n",
       "Baltimore              57\n",
       "Montgomery             35\n",
       "Cecil                  25\n",
       "Dorchester             17\n",
       "Harford                17\n",
       "Howard                 15\n",
       "Allegany               15\n",
       "Washington             14\n",
       "Charles                12\n",
       "Carroll                 9\n",
       "Wicomico                8\n",
       "Not Yet Determined      7\n",
       "Worcester               7\n",
       "St. Mary's              6\n",
       "Garrett                 5\n",
       "Caroline                3\n",
       "Queen Anne's            2\n",
       "Somerset                2\n",
       "Talbot                  1\n",
       "Kent                    1\n",
       "Statewide               1\n",
       "Name: count, dtype: int64"
      ]
     },
     "execution_count": 30,
     "metadata": {},
     "output_type": "execute_result"
    }
   ],
   "source": [
    "last_year_df['county'].value_counts()"
   ]
  },
  {
   "cell_type": "code",
   "execution_count": 41,
   "id": "5fd14a82-412d-4862-ac13-0589f99a8a00",
   "metadata": {},
   "outputs": [],
   "source": [
    "# remove \"not yet determined\" and \"statewide\" issues\n",
    "non_county_last_year_df = last_year_df[last_year_df.county.isin(['Not Yet Determined','Statewide'])].copy()\n",
    "last_year_df_all = last_year_df.copy()\n",
    "last_year_df = last_year_df[~last_year_df.county.isin(['Not Yet Determined','Statewide'])].copy()"
   ]
  },
  {
   "cell_type": "code",
   "execution_count": 39,
   "id": "805d0f17-0e70-4aac-af0d-ddc237d6a25c",
   "metadata": {},
   "outputs": [],
   "source": [
    "last_year_by_county = last_year_df.county.value_counts()"
   ]
  },
  {
   "cell_type": "markdown",
   "id": "4849e5e3",
   "metadata": {},
   "source": [
    "# export data"
   ]
  },
  {
   "cell_type": "code",
   "execution_count": 43,
   "id": "a378c8a5-118d-4a78-b540-be9edb767d63",
   "metadata": {},
   "outputs": [],
   "source": [
    "last_year_by_type.to_csv('exported_data/type_frequency.csv')\n",
    "last_year_by_county.to_csv('exported_data/county_frequency.csv')\n",
    "non_county_last_year_df.to_csv('exported_data/invalid_counties.csv')\n",
    "last_year_df.to_csv('exported_data/valid_counties.csv')\n",
    "last_year_df_all.to_csv('exported_data/all_complaints.csv')"
   ]
  },
  {
   "cell_type": "code",
   "execution_count": null,
   "id": "ed4f01fe-89ea-4b9d-87a0-56268063aa41",
   "metadata": {},
   "outputs": [],
   "source": []
  }
 ],
 "metadata": {
  "kernelspec": {
   "display_name": "Python 3 (ipykernel)",
   "language": "python",
   "name": "python3"
  },
  "language_info": {
   "codemirror_mode": {
    "name": "ipython",
    "version": 3
   },
   "file_extension": ".py",
   "mimetype": "text/x-python",
   "name": "python",
   "nbconvert_exporter": "python",
   "pygments_lexer": "ipython3",
   "version": "3.11.8"
  }
 },
 "nbformat": 4,
 "nbformat_minor": 5
}
